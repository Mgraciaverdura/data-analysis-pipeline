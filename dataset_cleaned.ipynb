{
 "cells": [
  {
   "cell_type": "code",
   "execution_count": 2,
   "metadata": {},
   "outputs": [
    {
     "name": "stderr",
     "output_type": "stream",
     "text": [
      "/home/slimbook/.local/lib/python3.6/site-packages/IPython/core/interactiveshell.py:3049: DtypeWarning: Columns (39,40,41,42,43,44,45,46,47,59,60,61,62,63,64,65,66) have mixed types. Specify dtype option on import or set low_memory=False.\n",
      "  interactivity=interactivity, compiler=compiler, result=result)\n"
     ]
    }
   ],
   "source": [
    "import pandas as pd\n",
    "data = pd.read_csv(\"2005_data.csv\") "
   ]
  },
  {
   "cell_type": "code",
   "execution_count": 6,
   "metadata": {},
   "outputs": [],
   "source": [
    "data_clean = data.drop(columns= ['resident_status', 'education_1989_revision', 'education_2003_revision',\n",
    "      'education_reporting_flag', 'month_of_death', 'sex', 'detail_age_type',\n",
    "      'detail_age', 'age_substitution_flag', 'age_recode_52', 'age_recode_27',\n",
    "      'age_recode_12', 'infant_age_recode_22',\n",
    "      'place_of_death_and_decedents_status', 'marital_status',\n",
    "      'day_of_week_of_death', 'current_data_year', 'injury_at_work',\n",
    "      'manner_of_death', 'method_of_disposition', 'autopsy', 'activity_code',\n",
    "      'place_of_injury_for_causes_w00_y34_except_y06_and_y07_',\n",
    "      'icd_code_10th_revision', '358_cause_recode', '113_cause_recode',\n",
    "      '130_infant_cause_recode','number_of_entity_axis_conditions', 'entity_condition_1',\n",
    "      'entity_condition_2', 'entity_condition_3', 'entity_condition_4',\n",
    "      'entity_condition_5', 'entity_condition_6', 'entity_condition_7',\n",
    "      'entity_condition_8', 'entity_condition_9', 'entity_condition_10',\n",
    "      'entity_condition_11', 'entity_condition_12', 'entity_condition_13',\n",
    "      'entity_condition_14', 'entity_condition_15', 'entity_condition_16',\n",
    "      'entity_condition_17', 'entity_condition_18', 'entity_condition_19',\n",
    "      'entity_condition_20', 'number_of_record_axis_conditions',\n",
    "      'record_condition_1', 'record_condition_2', 'record_condition_3',\n",
    "      'record_condition_4', 'record_condition_5', 'record_condition_6',\n",
    "      'record_condition_7', 'record_condition_8', 'record_condition_9',\n",
    "      'record_condition_10', 'record_condition_11', 'record_condition_12',\n",
    "      'record_condition_13', 'record_condition_14', 'record_condition_15',\n",
    "      'record_condition_16', 'record_condition_17', 'record_condition_18',\n",
    "      'record_condition_19', 'record_condition_20', 'race',\n",
    "      'bridged_race_flag', 'race_imputation_flag', 'race_recode_3',\n",
    "      'race_recode_5', 'hispanic_origin', 'hispanic_originrace_recode'], axis = 1)"
   ]
  },
  {
   "cell_type": "code",
   "execution_count": 7,
   "metadata": {},
   "outputs": [
    {
     "data": {
      "text/plain": [
       "(2452506, 1)"
      ]
     },
     "execution_count": 7,
     "metadata": {},
     "output_type": "execute_result"
    }
   ],
   "source": [
    "data_clean.shape"
   ]
  },
  {
   "cell_type": "code",
   "execution_count": 8,
   "metadata": {},
   "outputs": [
    {
     "name": "stdout",
     "output_type": "stream",
     "text": [
      "[]\n"
     ]
    }
   ],
   "source": [
    "import numpy as np\n",
    "low_variance = []\n",
    "\n",
    "for col in data_clean._get_numeric_data():\n",
    "    minimum = min(data_clean[col])\n",
    "    ninety_perc = np.percentile(data_clean[col], 90)\n",
    "    if ninety_perc == minimum:\n",
    "        low_variance.append(col)\n",
    "\n",
    "print(low_variance)"
   ]
  },
  {
   "cell_type": "code",
   "execution_count": 11,
   "metadata": {},
   "outputs": [],
   "source": [
    "def homog_causes (v):\n",
    "\n",
    "    cause_recode = {\n",
    "\n",
    "        \"16\":\"Heart diseases\", \n",
    "        \"17\":\"Heart diseases\", \n",
    "        \"18\":\"Heart diseases\", \n",
    "        \"3\":\"Cancer\", \n",
    "        \"4 \":\"Cancer\", \n",
    "        \"5\":\"Cancer\",\n",
    "        \"6\":\"Cancer\",\n",
    "        \"7\":\"Cancer\",\n",
    "        \"8\":\"Cancer\",\n",
    "        \"9\":\"Cancer\",\n",
    "        \"10\":\"Cancer\",\n",
    "        \"11\":\"Cancer\",\n",
    "        \"12\":\"Cancer\",\n",
    "        \"13\":\"Cancer\",\n",
    "        \"37\":\"Motor vehicle accidents\",\n",
    "        \"36\":\"Homicide\",\n",
    "        \n",
    "\n",
    "    }\n",
    "\n",
    "    for col, fila in data_clean.items(): \n",
    "\n",
    "        if col in v: \n",
    "\n",
    "            return fila\n",
    "\n",
    "    return None"
   ]
  },
  {
   "cell_type": "code",
   "execution_count": 12,
   "metadata": {},
   "outputs": [
    {
     "data": {
      "text/plain": [
       "0          15\n",
       "1          28\n",
       "2          24\n",
       "3          16\n",
       "4           8\n",
       "5          24\n",
       "6          28\n",
       "7          28\n",
       "8          28\n",
       "9          15\n",
       "10         36\n",
       "11          6\n",
       "12         28\n",
       "13         15\n",
       "14         37\n",
       "15          8\n",
       "16         39\n",
       "17         42\n",
       "18         21\n",
       "19         28\n",
       "20          6\n",
       "21         40\n",
       "22          8\n",
       "23         37\n",
       "24         37\n",
       "25         37\n",
       "26          5\n",
       "27         24\n",
       "28         15\n",
       "29         31\n",
       "           ..\n",
       "2452476    33\n",
       "2452477    27\n",
       "2452478    21\n",
       "2452479    41\n",
       "2452480    21\n",
       "2452481    21\n",
       "2452482     3\n",
       "2452483    16\n",
       "2452484    21\n",
       "2452485    37\n",
       "2452486    21\n",
       "2452487    12\n",
       "2452488     3\n",
       "2452489    27\n",
       "2452490    21\n",
       "2452491    21\n",
       "2452492    21\n",
       "2452493    31\n",
       "2452494    21\n",
       "2452495    33\n",
       "2452496    33\n",
       "2452497    33\n",
       "2452498    27\n",
       "2452499    21\n",
       "2452500    33\n",
       "2452501    21\n",
       "2452502    33\n",
       "2452503    33\n",
       "2452504    33\n",
       "2452505    21\n",
       "Name: 39_cause_recode, Length: 2452506, dtype: int64"
      ]
     },
     "execution_count": 12,
     "metadata": {},
     "output_type": "execute_result"
    }
   ],
   "source": [
    "homog_causes(data_clean)"
   ]
  },
  {
   "cell_type": "code",
   "execution_count": null,
   "metadata": {},
   "outputs": [],
   "source": []
  }
 ],
 "metadata": {
  "kernelspec": {
   "display_name": "Python 3",
   "language": "python",
   "name": "python3"
  },
  "language_info": {
   "codemirror_mode": {
    "name": "ipython",
    "version": 3
   },
   "file_extension": ".py",
   "mimetype": "text/x-python",
   "name": "python",
   "nbconvert_exporter": "python",
   "pygments_lexer": "ipython3",
   "version": "3.6.7"
  }
 },
 "nbformat": 4,
 "nbformat_minor": 2
}
