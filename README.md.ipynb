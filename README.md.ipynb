{
 "cells": [
  {
   "cell_type": "markdown",
   "metadata": {},
   "source": [
    "# READ ME"
   ]
  },
  {
   "cell_type": "markdown",
   "metadata": {},
   "source": [
    "I ) Este proyecto tenía como objetivo:\n",
    "    - limpiar una base de datos sobre accidentes en vuelos y limpiarla, dejando únicamente las columnas acerca de las fechas, los lugares en los que se producen los accidentes y la empresa u organización perjudicada;\n",
    "    - tomar una API (calendarific) y pedirle los días festivos en España, del año 2018;\n",
    "    - el análisis pretendía buscar una correlación entre los días festivos en España en el año 2018 y los accidentes de avión de ese mismo año;\n",
    "    - también realizar gráficos acerca de las otras dos columnas de la base de datos sobre accidentes de avión."
   ]
  },
  {
   "cell_type": "markdown",
   "metadata": {},
   "source": [
    "II) Documentos que transmito:\n",
    "\n",
    "El trabajo que entrego se corresponde a los siguientes documentos:\n",
    "    - analysis.py : trabajo en el que realizo la limpieza de los datos (tanto del dataframe como los resultados que me devuelve la API) y donde defino todas las funciones que uso para hacer el trabajo;\n",
    "    - main.py : documento desde el cual llamo a las funciones (documento principal);\n",
    "    - varios documentos abiertos desde Jupyter Notebook que utilizaba con el objetivo de probar mis funciones;\n",
    "    - fpdf_crash.py : que tenía preparado para que pudiera convertir el resultado de mi análisis en un PDF;\n",
    "    - email_crash.py : que tenía preparado para poder enviar por email mi trabajo;\n",
    "    - imágenes de los dos gráficos que he realizado, sobre dos de las columnas de la base de datos."
   ]
  },
  {
   "cell_type": "markdown",
   "metadata": {},
   "source": [
    "III) Problemas que he encontrado y debido a los cuales no puedo entregar el trabajo acabado:\n",
    "    - Después de haber pasado mis funciones de Jupyter Notebook a Visual Studio Code, me he percatado de que no funcionaban en el pipeline;\n",
    "    - Pensando que ya la información que estaba pasando a mi pipeline era correcta, había borrado mucho código de Jupyter Notebook;\n",
    "    - Concretamente me he atascado en la limpieza de mis tablas, cosas básicas que creo que sé hacer... pero que no obstante no me estaban saliendo (el kernel no funcionaba y había que estar constantemente volviendo a cargar todo desde el principio, se ha parado varias veces Jupyter y he tenido que pararlo todo y reabrirlo, fallos de sintaxis, no he acudido muy amenudo a los TA, etc.)\n",
    "    - No he podido dedicar tiempo a adaptar fpdf_crash.py a mis actualizaciones, ni probar email_crash.py. \n",
    "    "
   ]
  },
  {
   "cell_type": "markdown",
   "metadata": {},
   "source": [
    "IV) Aprendizajes:\n",
    "    - He repasado mucho todo lo relativo a limpieza de dataframes;\n",
    "    - Me he entrenado a trabajar con una API (que aunque muy sencilla, algo me he tenido que pelear con ella);\n",
    "    - Me he dado cuenta que tengo que cambiar de metodología y poner más comentarios en mis \"papeles en sucio\", como era en este caso, mis documentos brouillon(s) en Jupyter Notebook. No hubiese perdido tanto tiempo ahora intentando corregir mi pipeline y si lo hubiese tenido todo mejor ordenado."
   ]
  },
  {
   "cell_type": "code",
   "execution_count": null,
   "metadata": {},
   "outputs": [],
   "source": []
  }
 ],
 "metadata": {
  "kernelspec": {
   "display_name": "Python 3",
   "language": "python",
   "name": "python3"
  },
  "language_info": {
   "codemirror_mode": {
    "name": "ipython",
    "version": 3
   },
   "file_extension": ".py",
   "mimetype": "text/x-python",
   "name": "python",
   "nbconvert_exporter": "python",
   "pygments_lexer": "ipython3",
   "version": "3.6.8"
  }
 },
 "nbformat": 4,
 "nbformat_minor": 2
}
