{
 "cells": [
  {
   "cell_type": "code",
   "execution_count": 3,
   "metadata": {},
   "outputs": [],
   "source": [
    "BASE_URL = \"https://calendarific.com/api/v2\""
   ]
  },
  {
   "cell_type": "code",
   "execution_count": 4,
   "metadata": {},
   "outputs": [
    {
     "ename": "IndentationError",
     "evalue": "unexpected indent (<ipython-input-4-0f74e31d2b53>, line 2)",
     "output_type": "error",
     "traceback": [
      "\u001b[0;36m  File \u001b[0;32m\"<ipython-input-4-0f74e31d2b53>\"\u001b[0;36m, line \u001b[0;32m2\u001b[0m\n\u001b[0;31m    with open(\"token_crash.py\") as file: # Use file to refer to the file object\u001b[0m\n\u001b[0m    ^\u001b[0m\n\u001b[0;31mIndentationError\u001b[0m\u001b[0;31m:\u001b[0m unexpected indent\n"
     ]
    }
   ],
   "source": [
    "\n",
    "       with open(\"token_crash.py\") as file: # Use file to refer to the file object\n",
    "        API_KEY = file.read().strip()\n",
    "       country= 'ES'\n",
    "       year= '2019'\n",
    "       res = requests.get(\"{}/holidays?&api_key={}&country={}&year={}\".format(BASE_URL,API_KEY,country,year))\n",
    "       res.json()\n",
    "       lista = res.json()['response']['holidays']\n",
    "       date=[]\n",
    "       for elem in lista: \n",
    "              date.append(elem.get('date', 0).get('iso', 0)[:10])  #.split(\",\")\n",
    "              api_df=pd.DataFrame(date, columns = [\"Date of public holidays in Spain\"])\n",
    "       return api_df"
   ]
  },
  {
   "cell_type": "code",
   "execution_count": null,
   "metadata": {},
   "outputs": [],
   "source": []
  }
 ],
 "metadata": {
  "kernelspec": {
   "display_name": "Python 3",
   "language": "python",
   "name": "python3"
  },
  "language_info": {
   "codemirror_mode": {
    "name": "ipython",
    "version": 3
   },
   "file_extension": ".py",
   "mimetype": "text/x-python",
   "name": "python",
   "nbconvert_exporter": "python",
   "pygments_lexer": "ipython3",
   "version": "3.6.8"
  }
 },
 "nbformat": 4,
 "nbformat_minor": 2
}
